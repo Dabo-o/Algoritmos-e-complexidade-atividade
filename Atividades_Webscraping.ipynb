{
  "nbformat": 4,
  "nbformat_minor": 0,
  "metadata": {
    "colab": {
      "provenance": [],
      "include_colab_link": true
    },
    "kernelspec": {
      "name": "python3",
      "display_name": "Python 3"
    },
    "language_info": {
      "name": "python"
    }
  },
  "cells": [
    {
      "cell_type": "markdown",
      "metadata": {
        "id": "view-in-github",
        "colab_type": "text"
      },
      "source": [
        "<a href=\"https://colab.research.google.com/github/Dabo-o/Algoritmos-e-complexidade-atividade/blob/main/Atividades_Webscraping.ipynb\" target=\"_parent\"><img src=\"https://colab.research.google.com/assets/colab-badge.svg\" alt=\"Open In Colab\"/></a>"
      ]
    },
    {
      "cell_type": "markdown",
      "source": [
        "# ALUNO: DAVI GUILHERME TAVARES - MATRICULA: 202402566148"
      ],
      "metadata": {
        "id": "R7wOIxMjyVNC"
      }
    },
    {
      "cell_type": "markdown",
      "source": [
        "#Atividade 1\n"
      ],
      "metadata": {
        "id": "P5wmsRE2yCmY"
      }
    },
    {
      "cell_type": "code",
      "source": [
        "import requests\n",
        "from bs4 import BeautifulSoup\n",
        "import csv\n",
        "\n",
        "url = \"https://books.toscrape.com/index.html\"\n",
        "resposta = requests.get(url)\n",
        "\n",
        "sopa = BeautifulSoup(resposta.text, \"html.parser\")\n",
        "\n",
        "titulos = sopa.find_all(\"h3\")\n",
        "precos = sopa.find_all(\"p\", class_=\"price_color\")\n",
        "estoque = sopa.find_all(\"p\", class_=\"instock availability\")\n",
        "\n",
        "\n",
        "for t, p, a in zip(titulos, precos, estoque):\n",
        "    print(f\"Titulo: {t.text} Preço: {p.text} Em  estoque: {a.text} \")\n",
        "\n",
        "with open(\"livros.csv\", \"w\", newline=\"\", encoding=\"utf-8\") as arquivo_csv:\n",
        "    escritor = csv.writer(arquivo_csv)\n",
        "    escritor.writerow([\"Título\", \"Preço\", \"Disponibilidade\"])\n",
        "\n",
        "    for t, p, a in zip(titulos, precos, estoque):\n",
        "        titulo = t.a[\"title\"].strip()\n",
        "        preco = p.text.strip()\n",
        "        disponibilidade = a.text.strip()\n",
        "\n",
        "        escritor.writerow([titulo, preco, disponibilidade])\n",
        "\n",
        "print(\"Arquivo 'livros.csv' criado com sucesso!\")"
      ],
      "metadata": {
        "id": "AywbJ3wTiCIk",
        "collapsed": true
      },
      "execution_count": null,
      "outputs": []
    },
    {
      "cell_type": "markdown",
      "source": [
        "#Atividade 2"
      ],
      "metadata": {
        "id": "sBpQfF32xqdf"
      }
    },
    {
      "cell_type": "code",
      "source": [
        "import requests\n",
        "from bs4 import BeautifulSoup\n",
        "import csv\n",
        "\n",
        "url = \"https://g1.globo.com/\"\n",
        "resposta = requests.get(url)\n",
        "sopa = BeautifulSoup(resposta.text, \"html.parser\")\n",
        "\n",
        "noticias = sopa.find_all(\"a\", class_=\"feed-post-link\")\n",
        "\n",
        "with open(\"noticias.csv\", \"w\", newline=\"\", encoding=\"utf-8\") as arquivo_csv:\n",
        "    escritor = csv.writer(arquivo_csv)\n",
        "    escritor.writerow([\"Título\", \"Link\"])\n",
        "\n",
        "    for noticia in noticias:\n",
        "        link = noticia.get(\"href\")\n",
        "        titulo = noticia.get_text(strip=True)\n",
        "\n",
        "        if link:\n",
        "            escritor.writerow([titulo, link])\n",
        "\n",
        "print(\"Arquivo 'noticias.csv' criado com sucesso!\")\n"
      ],
      "metadata": {
        "id": "1rzeYvEDiI0C",
        "colab": {
          "base_uri": "https://localhost:8080/"
        },
        "outputId": "979827e2-76b3-4b06-82ee-5800b483dc74"
      },
      "execution_count": 10,
      "outputs": [
        {
          "output_type": "stream",
          "name": "stdout",
          "text": [
            "Arquivo 'noticias.csv' criado com sucesso!\n"
          ]
        }
      ]
    },
    {
      "cell_type": "markdown",
      "source": [
        "#DESAFIO\n"
      ],
      "metadata": {
        "id": "xl9RPp-kxy1q"
      }
    },
    {
      "cell_type": "code",
      "source": [
        "import requests\n",
        "from bs4 import BeautifulSoup\n",
        "import csv\n",
        "from urllib.parse import urljoin\n",
        "import re\n",
        "\n",
        "url = \"https://jc.uol.com.br/\"\n",
        "headers = {\"User-Agent\": \"Mozilla/5.0 (Windows NT 10.0; Win64; x64)\"}\n",
        "resposta = requests.get(url, headers=headers, timeout=10)\n",
        "sopa = BeautifulSoup(resposta.text, \"html.parser\")\n",
        "\n",
        "resultados = []\n",
        "visto = set()\n",
        "\n",
        "for a in sopa.find_all(\"a\", href=True):\n",
        "    title_tag = a.find(class_=\"title\")\n",
        "    if not title_tag:\n",
        "        continue\n",
        "\n",
        "    titulo = title_tag.get_text(strip=True)\n",
        "    link = urljoin(url, a[\"href\"])\n",
        "\n",
        "    m = re.search(r\"/(\\d{4})/(\\d{2})/(\\d{2})/\", link)\n",
        "    data = None\n",
        "    if m:\n",
        "        ano, mes, dia = m.groups()\n",
        "        data = f\"{dia}/{mes}/{ano}\"\n",
        "\n",
        "    if link not in visto:\n",
        "        visto.add(link)\n",
        "        resultados.append((titulo, link, data))\n",
        "\n",
        "with open(\"noticias2.csv\", \"w\", newline=\"\", encoding=\"utf-8\") as f:\n",
        "    writer = csv.writer(f)\n",
        "    writer.writerow([\"Título\", \"Link\", \"Data\"])\n",
        "    writer.writerows(resultados)\n",
        "\n",
        "print(f\"{len(resultados)} notícias salvas em 'noticias2.csv'\")\n"
      ],
      "metadata": {
        "colab": {
          "base_uri": "https://localhost:8080/"
        },
        "id": "LqoXkv53tAuO",
        "outputId": "74f9e4c9-04aa-498a-9fea-10f60ad6b499"
      },
      "execution_count": 14,
      "outputs": [
        {
          "output_type": "stream",
          "name": "stdout",
          "text": [
            "55 notícias salvas em 'noticias2.csv'\n"
          ]
        }
      ]
    }
  ]
}