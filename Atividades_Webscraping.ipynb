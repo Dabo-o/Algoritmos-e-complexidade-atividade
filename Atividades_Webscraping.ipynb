{
  "nbformat": 4,
  "nbformat_minor": 0,
  "metadata": {
    "colab": {
      "provenance": [],
      "include_colab_link": true
    },
    "kernelspec": {
      "name": "python3",
      "display_name": "Python 3"
    },
    "language_info": {
      "name": "python"
    }
  },
  "cells": [
    {
      "cell_type": "markdown",
      "metadata": {
        "id": "view-in-github",
        "colab_type": "text"
      },
      "source": [
        "<a href=\"https://colab.research.google.com/github/Dabo-o/Algoritmos-e-complexidade-atividade/blob/main/Atividades_Webscraping.ipynb\" target=\"_parent\"><img src=\"https://colab.research.google.com/assets/colab-badge.svg\" alt=\"Open In Colab\"/></a>"
      ]
    },
    {
      "cell_type": "markdown",
      "source": [
        "# ALUNO: DAVI GUILHERME TAVARES - MATRICULA: 202402566148"
      ],
      "metadata": {
        "id": "R7wOIxMjyVNC"
      }
    },
    {
      "cell_type": "markdown",
      "source": [
        "#Atividade 1\n"
      ],
      "metadata": {
        "id": "P5wmsRE2yCmY"
      }
    },
    {
      "cell_type": "code",
      "source": [
        "import requests\n",
        "from bs4 import BeautifulSoup\n",
        "import csv\n",
        "\n",
        "url = \"https://books.toscrape.com/index.html\"\n",
        "resposta = requests.get(url)\n",
        "\n",
        "sopa = BeautifulSoup(resposta.text, \"html.parser\")\n",
        "\n",
        "titulos = sopa.find_all(\"h3\")\n",
        "precos = sopa.find_all(\"p\", class_=\"price_color\")\n",
        "estoque = sopa.find_all(\"p\", class_=\"instock availability\")\n",
        "\n",
        "\n",
        "for t, p, a in zip(titulos, precos, estoque):\n",
        "    print(f\"Titulo: {t.text} Preço: {p.text} Em  estoque: {a.text} \")\n",
        "\n",
        "with open(\"livros.csv\", \"w\", newline=\"\", encoding=\"utf-8\") as arquivo_csv:\n",
        "    escritor = csv.writer(arquivo_csv)\n",
        "    escritor.writerow([\"Título\", \"Preço\", \"Disponibilidade\"])\n",
        "\n",
        "    for t, p, a in zip(titulos, precos, estoque):\n",
        "        titulo = t.a[\"title\"].strip()\n",
        "        preco = p.text.strip()\n",
        "        disponibilidade = a.text.strip()\n",
        "\n",
        "        escritor.writerow([titulo, preco, disponibilidade])\n",
        "\n",
        "print(\"Arquivo 'livros.csv' criado com sucesso!\")"
      ],
      "metadata": {
        "colab": {
          "base_uri": "https://localhost:8080/"
        },
        "id": "AywbJ3wTiCIk",
        "outputId": "db30a01f-73cb-4600-a363-7ec97b575f7b",
        "collapsed": true
      },
      "execution_count": 2,
      "outputs": [
        {
          "output_type": "stream",
          "name": "stdout",
          "text": [
            "Titulo: A Light in the ... Preço: Â£51.77 Em  estoque: \n",
            "\n",
            "    \n",
            "        In stock\n",
            "    \n",
            " \n",
            "Titulo: Tipping the Velvet Preço: Â£53.74 Em  estoque: \n",
            "\n",
            "    \n",
            "        In stock\n",
            "    \n",
            " \n",
            "Titulo: Soumission Preço: Â£50.10 Em  estoque: \n",
            "\n",
            "    \n",
            "        In stock\n",
            "    \n",
            " \n",
            "Titulo: Sharp Objects Preço: Â£47.82 Em  estoque: \n",
            "\n",
            "    \n",
            "        In stock\n",
            "    \n",
            " \n",
            "Titulo: Sapiens: A Brief History ... Preço: Â£54.23 Em  estoque: \n",
            "\n",
            "    \n",
            "        In stock\n",
            "    \n",
            " \n",
            "Titulo: The Requiem Red Preço: Â£22.65 Em  estoque: \n",
            "\n",
            "    \n",
            "        In stock\n",
            "    \n",
            " \n",
            "Titulo: The Dirty Little Secrets ... Preço: Â£33.34 Em  estoque: \n",
            "\n",
            "    \n",
            "        In stock\n",
            "    \n",
            " \n",
            "Titulo: The Coming Woman: A ... Preço: Â£17.93 Em  estoque: \n",
            "\n",
            "    \n",
            "        In stock\n",
            "    \n",
            " \n",
            "Titulo: The Boys in the ... Preço: Â£22.60 Em  estoque: \n",
            "\n",
            "    \n",
            "        In stock\n",
            "    \n",
            " \n",
            "Titulo: The Black Maria Preço: Â£52.15 Em  estoque: \n",
            "\n",
            "    \n",
            "        In stock\n",
            "    \n",
            " \n",
            "Titulo: Starving Hearts (Triangular Trade ... Preço: Â£13.99 Em  estoque: \n",
            "\n",
            "    \n",
            "        In stock\n",
            "    \n",
            " \n",
            "Titulo: Shakespeare's Sonnets Preço: Â£20.66 Em  estoque: \n",
            "\n",
            "    \n",
            "        In stock\n",
            "    \n",
            " \n",
            "Titulo: Set Me Free Preço: Â£17.46 Em  estoque: \n",
            "\n",
            "    \n",
            "        In stock\n",
            "    \n",
            " \n",
            "Titulo: Scott Pilgrim's Precious Little ... Preço: Â£52.29 Em  estoque: \n",
            "\n",
            "    \n",
            "        In stock\n",
            "    \n",
            " \n",
            "Titulo: Rip it Up and ... Preço: Â£35.02 Em  estoque: \n",
            "\n",
            "    \n",
            "        In stock\n",
            "    \n",
            " \n",
            "Titulo: Our Band Could Be ... Preço: Â£57.25 Em  estoque: \n",
            "\n",
            "    \n",
            "        In stock\n",
            "    \n",
            " \n",
            "Titulo: Olio Preço: Â£23.88 Em  estoque: \n",
            "\n",
            "    \n",
            "        In stock\n",
            "    \n",
            " \n",
            "Titulo: Mesaerion: The Best Science ... Preço: Â£37.59 Em  estoque: \n",
            "\n",
            "    \n",
            "        In stock\n",
            "    \n",
            " \n",
            "Titulo: Libertarianism for Beginners Preço: Â£51.33 Em  estoque: \n",
            "\n",
            "    \n",
            "        In stock\n",
            "    \n",
            " \n",
            "Titulo: It's Only the Himalayas Preço: Â£45.17 Em  estoque: \n",
            "\n",
            "    \n",
            "        In stock\n",
            "    \n",
            " \n",
            "Arquivo 'livros.csv' criado com sucesso!\n"
          ]
        }
      ]
    },
    {
      "cell_type": "markdown",
      "source": [
        "#Atividade 2"
      ],
      "metadata": {
        "id": "sBpQfF32xqdf"
      }
    },
    {
      "cell_type": "code",
      "source": [
        "import requests\n",
        "from bs4 import BeautifulSoup\n",
        "import csv\n",
        "\n",
        "url = \"https://g1.globo.com/\"\n",
        "resposta = requests.get(url)\n",
        "sopa = BeautifulSoup(resposta.text, \"html.parser\")\n",
        "\n",
        "noticias = sopa.find_all(\"a\", class_=\"feed-post-link\")\n",
        "\n",
        "with open(\"noticias.csv\", \"w\", newline=\"\", encoding=\"utf-8\") as arquivo_csv:\n",
        "    escritor = csv.writer(arquivo_csv)\n",
        "    escritor.writerow([\"Título\", \"Link\"])\n",
        "\n",
        "    for noticia in noticias:\n",
        "        link = noticia.get(\"href\")\n",
        "        titulo = noticia.get_text(strip=True)\n",
        "\n",
        "        if link:\n",
        "            escritor.writerow([titulo, link])\n",
        "\n",
        "print(\"Arquivo 'noticias.csv' criado com sucesso!\")\n"
      ],
      "metadata": {
        "id": "1rzeYvEDiI0C",
        "colab": {
          "base_uri": "https://localhost:8080/"
        },
        "outputId": "9980ca8b-85b5-46eb-82c6-d07ce4ea0a26"
      },
      "execution_count": 1,
      "outputs": [
        {
          "output_type": "stream",
          "name": "stdout",
          "text": [
            "Arquivo 'noticias.csv' criado com sucesso!\n"
          ]
        }
      ]
    },
    {
      "cell_type": "markdown",
      "source": [
        "#DESAFIO\n"
      ],
      "metadata": {
        "id": "xl9RPp-kxy1q"
      }
    },
    {
      "cell_type": "code",
      "source": [
        "import requests\n",
        "from bs4 import BeautifulSoup\n",
        "import csv\n",
        "from urllib.parse import urljoin\n",
        "\n",
        "url = \"https://jc.uol.com.br/\"\n",
        "headers = {\"User-Agent\": \"Mozilla/5.0 (Windows NT 10.0; Win64; x64)\"}\n",
        "resposta = requests.get(url, headers=headers, timeout=10)\n",
        "sopa = BeautifulSoup(resposta.text, \"html.parser\")\n",
        "\n",
        "resultados = []\n",
        "visto = set()\n",
        "\n",
        "for a in sopa.find_all(\"a\", href=True):\n",
        "    title_tag = a.find(class_=\"title\")\n",
        "    if not title_tag:\n",
        "        continue\n",
        "\n",
        "    titulo = title_tag.get_text(strip=True)\n",
        "    link = urljoin(url, a[\"href\"])\n",
        "\n",
        "    if link not in visto:\n",
        "        visto.add(link)\n",
        "        resultados.append((titulo, link))\n",
        "\n",
        "with open(\"noticias2.csv\", \"w\", newline=\"\", encoding=\"utf-8\") as f:\n",
        "    writer = csv.writer(f)\n",
        "    writer.writerow([\"Título\", \"Link\"])\n",
        "    writer.writerows(resultados)\n",
        "\n",
        "print(f\"{len(resultados)} notícias salvas em 'noticias2.csv'\")\n"
      ],
      "metadata": {
        "colab": {
          "base_uri": "https://localhost:8080/"
        },
        "id": "LqoXkv53tAuO",
        "outputId": "bdd96ea9-ffce-4826-ff29-7a65c2b6c35c"
      },
      "execution_count": 9,
      "outputs": [
        {
          "output_type": "stream",
          "name": "stdout",
          "text": [
            "54 notícias salvas em 'noticias2.csv'\n"
          ]
        }
      ]
    }
  ]
}