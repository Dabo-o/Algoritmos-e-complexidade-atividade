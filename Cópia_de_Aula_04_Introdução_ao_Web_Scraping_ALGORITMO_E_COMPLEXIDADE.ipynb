{
  "nbformat": 4,
  "nbformat_minor": 0,
  "metadata": {
    "colab": {
      "provenance": [],
      "include_colab_link": true
    },
    "kernelspec": {
      "name": "python3",
      "display_name": "Python 3"
    },
    "language_info": {
      "name": "python"
    }
  },
  "cells": [
    {
      "cell_type": "markdown",
      "metadata": {
        "id": "view-in-github",
        "colab_type": "text"
      },
      "source": [
        "<a href=\"https://colab.research.google.com/github/Dabo-o/Algoritmos-e-complexidade-atividade/blob/main/C%C3%B3pia_de_Aula_04_Introdu%C3%A7%C3%A3o_ao_Web_Scraping_ALGORITMO_E_COMPLEXIDADE.ipynb\" target=\"_parent\"><img src=\"https://colab.research.google.com/assets/colab-badge.svg\" alt=\"Open In Colab\"/></a>"
      ]
    },
    {
      "cell_type": "markdown",
      "source": [
        "#Aula 04: Introdução ao Web Scraping"
      ],
      "metadata": {
        "id": "RX_2J_ZnhwBV"
      }
    },
    {
      "cell_type": "markdown",
      "source": [
        "##Introdução ao Web Scraping com BeautifulSoup"
      ],
      "metadata": {
        "id": "3wUJ3Cxkhzrk"
      }
    },
    {
      "cell_type": "code",
      "execution_count": null,
      "metadata": {
        "colab": {
          "base_uri": "https://localhost:8080/"
        },
        "id": "qhScvtdmg8GE",
        "outputId": "eb54eafe-9290-486c-9a4b-105fafc5029f"
      },
      "outputs": [
        {
          "output_type": "stream",
          "name": "stdout",
          "text": [
            "Requirement already satisfied: requests in /usr/local/lib/python3.12/dist-packages (2.32.4)\n",
            "Requirement already satisfied: beautifulsoup4 in /usr/local/lib/python3.12/dist-packages (4.13.5)\n",
            "Requirement already satisfied: charset_normalizer<4,>=2 in /usr/local/lib/python3.12/dist-packages (from requests) (3.4.3)\n",
            "Requirement already satisfied: idna<4,>=2.5 in /usr/local/lib/python3.12/dist-packages (from requests) (3.10)\n",
            "Requirement already satisfied: urllib3<3,>=1.21.1 in /usr/local/lib/python3.12/dist-packages (from requests) (2.5.0)\n",
            "Requirement already satisfied: certifi>=2017.4.17 in /usr/local/lib/python3.12/dist-packages (from requests) (2025.8.3)\n",
            "Requirement already satisfied: soupsieve>1.2 in /usr/local/lib/python3.12/dist-packages (from beautifulsoup4) (2.8)\n",
            "Requirement already satisfied: typing-extensions>=4.0.0 in /usr/local/lib/python3.12/dist-packages (from beautifulsoup4) (4.15.0)\n"
          ]
        }
      ],
      "source": [
        "# Instalação\n",
        "!pip install requests beautifulsoup4"
      ]
    },
    {
      "cell_type": "markdown",
      "source": [
        "### Usando com páginas web reais"
      ],
      "metadata": {
        "id": "DO5CLu7OiFRy"
      }
    },
    {
      "cell_type": "code",
      "source": [
        "import requests\n",
        "from bs4 import BeautifulSoup\n",
        "import csv\n",
        "\n",
        "url = \"https://books.toscrape.com/index.html\"\n",
        "resposta = requests.get(url)\n",
        "\n",
        "# Criar o objeto BeautifulSoup\n",
        "sopa = BeautifulSoup(resposta.text, \"html.parser\")\n",
        "\n",
        "titulos = sopa.find_all(\"h3\")\n",
        "precos = sopa.find_all(\"p\", class_=\"price_color\")\n",
        "estoque = sopa.find_all(\"p\", class_=\"instock availability\")\n",
        "\n",
        "\n",
        "for t, p, a in zip(titulos, precos, estoque):\n",
        "    print(f\"Titulo: {t.text} Preço: {p.text} Em  estoque: {a.text} \")\n",
        "\n",
        "with open(\"livros.csv\", \"w\", newline=\"\", encoding=\"utf-8\") as arquivo_csv:\n",
        "    escritor = csv.writer(arquivo_csv)\n",
        "    escritor.writerow([\"Título\", \"Preço\", \"Disponibilidade\"])  # Cabeçalho\n",
        "\n",
        "    for t, p, a in zip(titulos, precos, estoque):\n",
        "        titulo = t.a[\"title\"].strip()  # pega o título do atributo title\n",
        "        preco = p.text.strip()\n",
        "        disponibilidade = a.text.strip()\n",
        "\n",
        "        # Escreve a linha no CSV\n",
        "        escritor.writerow([titulo, preco, disponibilidade])\n",
        "\n",
        "print(\"Arquivo 'livros.csv' criado com sucesso!\")"
      ],
      "metadata": {
        "colab": {
          "base_uri": "https://localhost:8080/"
        },
        "id": "AywbJ3wTiCIk",
        "outputId": "de275da6-e824-4ee2-c417-ba98a6a4e597",
        "collapsed": true
      },
      "execution_count": null,
      "outputs": [
        {
          "output_type": "stream",
          "name": "stdout",
          "text": [
            "Titulo: A Light in the ... Preço: Â£51.77 Em  estoque: \n",
            "\n",
            "    \n",
            "        In stock\n",
            "    \n",
            " \n",
            "Titulo: Tipping the Velvet Preço: Â£53.74 Em  estoque: \n",
            "\n",
            "    \n",
            "        In stock\n",
            "    \n",
            " \n",
            "Titulo: Soumission Preço: Â£50.10 Em  estoque: \n",
            "\n",
            "    \n",
            "        In stock\n",
            "    \n",
            " \n",
            "Titulo: Sharp Objects Preço: Â£47.82 Em  estoque: \n",
            "\n",
            "    \n",
            "        In stock\n",
            "    \n",
            " \n",
            "Titulo: Sapiens: A Brief History ... Preço: Â£54.23 Em  estoque: \n",
            "\n",
            "    \n",
            "        In stock\n",
            "    \n",
            " \n",
            "Titulo: The Requiem Red Preço: Â£22.65 Em  estoque: \n",
            "\n",
            "    \n",
            "        In stock\n",
            "    \n",
            " \n",
            "Titulo: The Dirty Little Secrets ... Preço: Â£33.34 Em  estoque: \n",
            "\n",
            "    \n",
            "        In stock\n",
            "    \n",
            " \n",
            "Titulo: The Coming Woman: A ... Preço: Â£17.93 Em  estoque: \n",
            "\n",
            "    \n",
            "        In stock\n",
            "    \n",
            " \n",
            "Titulo: The Boys in the ... Preço: Â£22.60 Em  estoque: \n",
            "\n",
            "    \n",
            "        In stock\n",
            "    \n",
            " \n",
            "Titulo: The Black Maria Preço: Â£52.15 Em  estoque: \n",
            "\n",
            "    \n",
            "        In stock\n",
            "    \n",
            " \n",
            "Titulo: Starving Hearts (Triangular Trade ... Preço: Â£13.99 Em  estoque: \n",
            "\n",
            "    \n",
            "        In stock\n",
            "    \n",
            " \n",
            "Titulo: Shakespeare's Sonnets Preço: Â£20.66 Em  estoque: \n",
            "\n",
            "    \n",
            "        In stock\n",
            "    \n",
            " \n",
            "Titulo: Set Me Free Preço: Â£17.46 Em  estoque: \n",
            "\n",
            "    \n",
            "        In stock\n",
            "    \n",
            " \n",
            "Titulo: Scott Pilgrim's Precious Little ... Preço: Â£52.29 Em  estoque: \n",
            "\n",
            "    \n",
            "        In stock\n",
            "    \n",
            " \n",
            "Titulo: Rip it Up and ... Preço: Â£35.02 Em  estoque: \n",
            "\n",
            "    \n",
            "        In stock\n",
            "    \n",
            " \n",
            "Titulo: Our Band Could Be ... Preço: Â£57.25 Em  estoque: \n",
            "\n",
            "    \n",
            "        In stock\n",
            "    \n",
            " \n",
            "Titulo: Olio Preço: Â£23.88 Em  estoque: \n",
            "\n",
            "    \n",
            "        In stock\n",
            "    \n",
            " \n",
            "Titulo: Mesaerion: The Best Science ... Preço: Â£37.59 Em  estoque: \n",
            "\n",
            "    \n",
            "        In stock\n",
            "    \n",
            " \n",
            "Titulo: Libertarianism for Beginners Preço: Â£51.33 Em  estoque: \n",
            "\n",
            "    \n",
            "        In stock\n",
            "    \n",
            " \n",
            "Titulo: It's Only the Himalayas Preço: Â£45.17 Em  estoque: \n",
            "\n",
            "    \n",
            "        In stock\n",
            "    \n",
            " \n",
            "Arquivo 'livros.csv' criado com sucesso!\n"
          ]
        }
      ]
    },
    {
      "cell_type": "code",
      "source": [
        "import requests\n",
        "from bs4 import BeautifulSoup\n",
        "import csv\n",
        "\n",
        "url = \"https://g1.globo.com/\"\n",
        "resposta = requests.get(url)\n",
        "sopa = BeautifulSoup(resposta.text, \"html.parser\")\n",
        "\n",
        "# Seleciona os blocos de notícias\n",
        "noticias = sopa.find_all(\"a\", class_=\"feed-post-link\")\n",
        "\n",
        "# Cria o arquivo CSV\n",
        "with open(\"noticias.csv\", \"w\", newline=\"\", encoding=\"utf-8\") as arquivo_csv:\n",
        "    escritor = csv.writer(arquivo_csv)\n",
        "    escritor.writerow([\"Título\", \"Link\"])  # Cabeçalho\n",
        "\n",
        "    for noticia in noticias:\n",
        "        link = noticia.get(\"href\")\n",
        "        titulo = noticia.get_text(strip=True)\n",
        "\n",
        "        if link:  # Só adiciona se existir link\n",
        "            escritor.writerow([titulo, link])\n",
        "\n",
        "print(\"Arquivo 'noticias.csv' criado com sucesso!\")\n"
      ],
      "metadata": {
        "id": "1rzeYvEDiI0C",
        "colab": {
          "base_uri": "https://localhost:8080/"
        },
        "outputId": "3913c2da-ae82-4664-e48a-a255bc40ed4f"
      },
      "execution_count": null,
      "outputs": [
        {
          "output_type": "stream",
          "name": "stdout",
          "text": [
            "Arquivo 'noticias.csv' criado com sucesso!\n"
          ]
        }
      ]
    }
  ]
}